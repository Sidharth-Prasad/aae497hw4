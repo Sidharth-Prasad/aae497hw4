{
 "cells": [
  {
   "cell_type": "code",
   "execution_count": 28,
   "metadata": {},
   "outputs": [],
   "source": [
    "import casadi as ca\n",
    "import numpy as np"
   ]
  },
  {
   "cell_type": "markdown",
   "metadata": {},
   "source": [
    "$m\\ddot{x} + c\\dot{x}+k x = u$"
   ]
  },
  {
   "cell_type": "code",
   "execution_count": 17,
   "metadata": {},
   "outputs": [],
   "source": [
    "m= ca.SX.sym('m')\n",
    "c= ca.SX.sym('c')\n",
    "k= ca.SX.sym('k')\n",
    "p = ca.vertcat(m,c,k)\n",
    "\n",
    "u= ca.SX.sym('u')\n",
    "xv= ca.SX.sym('x' ,2)\n",
    "x=xv[0]\n",
    "xd = xv[1]\n",
    "\n",
    "xv_dot = ca.vertcat(xd, (-c*xd - k*x +u)/m)"
   ]
  },
  {
   "cell_type": "code",
   "execution_count": 18,
   "metadata": {},
   "outputs": [],
   "source": [
    "f_rhs = ca.Function('rhs', [xv, u, p], [xv_dot], ['x','u','p'], ['x_dot'])"
   ]
  },
  {
   "cell_type": "code",
   "execution_count": 19,
   "metadata": {},
   "outputs": [
    {
     "data": {
      "text/plain": [
       "DM([2, -7])"
      ]
     },
     "execution_count": 19,
     "metadata": {},
     "output_type": "execute_result"
    }
   ],
   "source": [
    "f_rhs([1,2], [0], [1,2,3])"
   ]
  },
  {
   "cell_type": "code",
   "execution_count": 29,
   "metadata": {},
   "outputs": [
    {
     "data": {
      "text/plain": [
       "  message: 'The solver successfully reached the end of the integration interval.'\n",
       "     nfev: 44\n",
       "     njev: 0\n",
       "      nlu: 0\n",
       "      sol: None\n",
       "   status: 0\n",
       "  success: True\n",
       "        t: array([0.00000000e+00, 1.00000000e-04, 1.10000000e-03, 1.11000000e-02,\n",
       "       1.11100000e-01, 3.86442473e-01, 8.03578903e-01, 1.00000000e+00])\n",
       " t_events: None\n",
       "        y: array([[0.00000000e+00, 4.99966667e-09, 6.04556394e-07, 6.11497611e-05,\n",
       "        5.72137559e-03, 5.65989333e-02, 1.74782285e-01, 2.28549766e-01],\n",
       "       [0.00000000e+00, 9.99900002e-05, 1.09879022e-03, 1.09770205e-02,\n",
       "        9.90092152e-02, 2.49700184e-01, 2.87209741e-01, 2.56968012e-01]])"
      ]
     },
     "execution_count": 29,
     "metadata": {},
     "output_type": "execute_result"
    }
   ],
   "source": [
    "import scipy.integrate\n",
    "scipy.integrate.solve_ivp(fun= lambda t, x: np.array(f_rhs(x, 1.0, [1,2,3])).reshape(-1), t_span=[0,1], y0=([0,0]))"
   ]
  },
  {
   "cell_type": "code",
   "execution_count": null,
   "metadata": {},
   "outputs": [],
   "source": []
  }
 ],
 "metadata": {
  "kernelspec": {
   "display_name": "Python 3",
   "language": "python",
   "name": "python3"
  },
  "language_info": {
   "codemirror_mode": {
    "name": "ipython",
    "version": 3
   },
   "file_extension": ".py",
   "mimetype": "text/x-python",
   "name": "python",
   "nbconvert_exporter": "python",
   "pygments_lexer": "ipython3",
   "version": "3.7.3"
  }
 },
 "nbformat": 4,
 "nbformat_minor": 4
}
